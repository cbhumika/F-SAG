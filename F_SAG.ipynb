{
  "nbformat": 4,
  "nbformat_minor": 0,
  "metadata": {
    "colab": {
      "name": "F-SAG.ipynb",
      "provenance": [],
      "collapsed_sections": [],
      "toc_visible": true
    },
    "kernelspec": {
      "name": "python3",
      "display_name": "Python 3"
    }
  },
  "cells": [
    {
      "cell_type": "code",
      "metadata": {
        "id": "Ibx71fY9pnK2",
        "colab": {
          "base_uri": "https://localhost:8080/",
          "height": 122
        },
        "outputId": "8f3ace6d-8f2f-408f-a6e7-1fe61755b1e4"
      },
      "source": [
        "from google.colab import drive\n",
        "drive.mount('/content/drive/')"
      ],
      "execution_count": null,
      "outputs": [
        {
          "output_type": "stream",
          "text": [
            "Go to this URL in a browser: https://accounts.google.com/o/oauth2/auth?client_id=947318989803-6bn6qk8qdgf4n4g3pfee6491hc0brc4i.apps.googleusercontent.com&redirect_uri=urn%3Aietf%3Awg%3Aoauth%3A2.0%3Aoob&scope=email%20https%3A%2F%2Fwww.googleapis.com%2Fauth%2Fdocs.test%20https%3A%2F%2Fwww.googleapis.com%2Fauth%2Fdrive%20https%3A%2F%2Fwww.googleapis.com%2Fauth%2Fdrive.photos.readonly%20https%3A%2F%2Fwww.googleapis.com%2Fauth%2Fpeopleapi.readonly&response_type=code\n",
            "\n",
            "Enter your authorization code:\n",
            "··········\n",
            "Mounted at /content/drive/\n"
          ],
          "name": "stdout"
        }
      ]
    },
    {
      "cell_type": "code",
      "metadata": {
        "id": "y7AcVtJJp_ne",
        "colab": {
          "base_uri": "https://localhost:8080/",
          "height": 34
        },
        "outputId": "416d797a-6555-4b3b-b77c-f6e1cefdd273"
      },
      "source": [
        "%cd /content/drive/My Drive/Colab Notebooks/dataset"
      ],
      "execution_count": null,
      "outputs": [
        {
          "output_type": "stream",
          "text": [
            "/content/drive/My Drive/Colab Notebooks/dataset\n"
          ],
          "name": "stdout"
        }
      ]
    },
    {
      "cell_type": "code",
      "metadata": {
        "id": "C5rSP8HKqZLp"
      },
      "source": [
        "import pandas as pd\n",
        "import numpy as np"
      ],
      "execution_count": null,
      "outputs": []
    },
    {
      "cell_type": "code",
      "metadata": {
        "id": "ysMUdy6SjmBl",
        "colab": {
          "base_uri": "https://localhost:8080/",
          "height": 321
        },
        "outputId": "0d6a9645-31d9-468a-deeb-b5b284799687"
      },
      "source": [
        "#read data from python dataframe\n",
        "data1=pd.read_csv(\"combinefea.csv\") \n",
        "col_names1 = data1.columns.tolist()\n",
        "print(\"Column names:\")\n",
        "print(col_names1)\n",
        "print(\"\\nSample data:\")\n",
        "data1.head()"
      ],
      "execution_count": null,
      "outputs": [
        {
          "output_type": "stream",
          "text": [
            "Column names:\n",
            "['Sno', 'QuesAnsNo', 'Cosine_Sim', 'Jaccard_Sim', 'Manhattan_Dis', 'Euclidean_Dis', 'Wordnet_wup_sim', 'Wordnet_path_sim', 'wordnet_res_sim', 'Word_jcn_sim', 'Wordnet_lin_sim', 'Wordnet_lch_sim', 'Bi_gram', 'embed_glove', 'embed_sim', 'embed_b', 'lengthRatio', 'embed_glove_ques', 'lsa', 'Recall', 'Precision', 'PreRec', 'countch', 'countch1', 'countwd1', 'commonw', 'Diff', 'DiffDiv', 'DiffDiv1', 'SentRatio', 'Score']\n",
            "\n",
            "Sample data:\n"
          ],
          "name": "stdout"
        },
        {
          "output_type": "execute_result",
          "data": {
            "text/html": [
              "<div>\n",
              "<style scoped>\n",
              "    .dataframe tbody tr th:only-of-type {\n",
              "        vertical-align: middle;\n",
              "    }\n",
              "\n",
              "    .dataframe tbody tr th {\n",
              "        vertical-align: top;\n",
              "    }\n",
              "\n",
              "    .dataframe thead th {\n",
              "        text-align: right;\n",
              "    }\n",
              "</style>\n",
              "<table border=\"1\" class=\"dataframe\">\n",
              "  <thead>\n",
              "    <tr style=\"text-align: right;\">\n",
              "      <th></th>\n",
              "      <th>Sno</th>\n",
              "      <th>QuesAnsNo</th>\n",
              "      <th>Cosine_Sim</th>\n",
              "      <th>Jaccard_Sim</th>\n",
              "      <th>Manhattan_Dis</th>\n",
              "      <th>Euclidean_Dis</th>\n",
              "      <th>Wordnet_wup_sim</th>\n",
              "      <th>Wordnet_path_sim</th>\n",
              "      <th>wordnet_res_sim</th>\n",
              "      <th>Word_jcn_sim</th>\n",
              "      <th>...</th>\n",
              "      <th>PreRec</th>\n",
              "      <th>countch</th>\n",
              "      <th>countch1</th>\n",
              "      <th>countwd1</th>\n",
              "      <th>commonw</th>\n",
              "      <th>Diff</th>\n",
              "      <th>DiffDiv</th>\n",
              "      <th>DiffDiv1</th>\n",
              "      <th>SentRatio</th>\n",
              "      <th>Score</th>\n",
              "    </tr>\n",
              "  </thead>\n",
              "  <tbody>\n",
              "    <tr>\n",
              "      <th>0</th>\n",
              "      <td>0</td>\n",
              "      <td>11</td>\n",
              "      <td>0.140372</td>\n",
              "      <td>0.086957</td>\n",
              "      <td>24</td>\n",
              "      <td>32</td>\n",
              "      <td>0.79</td>\n",
              "      <td>0.49</td>\n",
              "      <td>5.47</td>\n",
              "      <td>2.860000e+299</td>\n",
              "      <td>...</td>\n",
              "      <td>0.062500</td>\n",
              "      <td>2.500000</td>\n",
              "      <td>0.400000</td>\n",
              "      <td>2.250</td>\n",
              "      <td>3</td>\n",
              "      <td>10</td>\n",
              "      <td>0.069444</td>\n",
              "      <td>1.250</td>\n",
              "      <td>1</td>\n",
              "      <td>3.5</td>\n",
              "    </tr>\n",
              "    <tr>\n",
              "      <th>1</th>\n",
              "      <td>1</td>\n",
              "      <td>11</td>\n",
              "      <td>0.394055</td>\n",
              "      <td>0.227273</td>\n",
              "      <td>18</td>\n",
              "      <td>20</td>\n",
              "      <td>0.97</td>\n",
              "      <td>0.83</td>\n",
              "      <td>8.38</td>\n",
              "      <td>7.140000e+299</td>\n",
              "      <td>...</td>\n",
              "      <td>0.225000</td>\n",
              "      <td>2.283333</td>\n",
              "      <td>0.437956</td>\n",
              "      <td>2.500</td>\n",
              "      <td>6</td>\n",
              "      <td>12</td>\n",
              "      <td>0.075000</td>\n",
              "      <td>1.500</td>\n",
              "      <td>1</td>\n",
              "      <td>5.0</td>\n",
              "    </tr>\n",
              "    <tr>\n",
              "      <th>2</th>\n",
              "      <td>2</td>\n",
              "      <td>11</td>\n",
              "      <td>0.654654</td>\n",
              "      <td>0.461538</td>\n",
              "      <td>7</td>\n",
              "      <td>7</td>\n",
              "      <td>1.00</td>\n",
              "      <td>1.00</td>\n",
              "      <td>9.34</td>\n",
              "      <td>1.000000e+300</td>\n",
              "      <td>...</td>\n",
              "      <td>0.471154</td>\n",
              "      <td>1.600000</td>\n",
              "      <td>0.625000</td>\n",
              "      <td>1.625</td>\n",
              "      <td>7</td>\n",
              "      <td>5</td>\n",
              "      <td>0.048077</td>\n",
              "      <td>0.625</td>\n",
              "      <td>0</td>\n",
              "      <td>4.0</td>\n",
              "    </tr>\n",
              "    <tr>\n",
              "      <th>3</th>\n",
              "      <td>3</td>\n",
              "      <td>11</td>\n",
              "      <td>0.350931</td>\n",
              "      <td>0.200000</td>\n",
              "      <td>22</td>\n",
              "      <td>26</td>\n",
              "      <td>0.91</td>\n",
              "      <td>0.89</td>\n",
              "      <td>8.36</td>\n",
              "      <td>8.570000e+299</td>\n",
              "      <td>...</td>\n",
              "      <td>0.204545</td>\n",
              "      <td>3.133333</td>\n",
              "      <td>0.319149</td>\n",
              "      <td>2.750</td>\n",
              "      <td>6</td>\n",
              "      <td>14</td>\n",
              "      <td>0.079545</td>\n",
              "      <td>1.750</td>\n",
              "      <td>1</td>\n",
              "      <td>5.0</td>\n",
              "    </tr>\n",
              "    <tr>\n",
              "      <th>4</th>\n",
              "      <td>4</td>\n",
              "      <td>11</td>\n",
              "      <td>0.148250</td>\n",
              "      <td>0.080000</td>\n",
              "      <td>25</td>\n",
              "      <td>29</td>\n",
              "      <td>0.82</td>\n",
              "      <td>0.54</td>\n",
              "      <td>6.16</td>\n",
              "      <td>2.860000e+299</td>\n",
              "      <td>...</td>\n",
              "      <td>0.053571</td>\n",
              "      <td>2.966667</td>\n",
              "      <td>0.337079</td>\n",
              "      <td>2.625</td>\n",
              "      <td>3</td>\n",
              "      <td>13</td>\n",
              "      <td>0.077381</td>\n",
              "      <td>1.625</td>\n",
              "      <td>1</td>\n",
              "      <td>3.0</td>\n",
              "    </tr>\n",
              "  </tbody>\n",
              "</table>\n",
              "<p>5 rows × 31 columns</p>\n",
              "</div>"
            ],
            "text/plain": [
              "   Sno  QuesAnsNo  Cosine_Sim  Jaccard_Sim  Manhattan_Dis  Euclidean_Dis  \\\n",
              "0    0         11    0.140372     0.086957             24             32   \n",
              "1    1         11    0.394055     0.227273             18             20   \n",
              "2    2         11    0.654654     0.461538              7              7   \n",
              "3    3         11    0.350931     0.200000             22             26   \n",
              "4    4         11    0.148250     0.080000             25             29   \n",
              "\n",
              "   Wordnet_wup_sim  Wordnet_path_sim  wordnet_res_sim   Word_jcn_sim  ...    \\\n",
              "0             0.79              0.49             5.47  2.860000e+299  ...     \n",
              "1             0.97              0.83             8.38  7.140000e+299  ...     \n",
              "2             1.00              1.00             9.34  1.000000e+300  ...     \n",
              "3             0.91              0.89             8.36  8.570000e+299  ...     \n",
              "4             0.82              0.54             6.16  2.860000e+299  ...     \n",
              "\n",
              "     PreRec   countch  countch1  countwd1  commonw  Diff   DiffDiv  DiffDiv1  \\\n",
              "0  0.062500  2.500000  0.400000     2.250        3    10  0.069444     1.250   \n",
              "1  0.225000  2.283333  0.437956     2.500        6    12  0.075000     1.500   \n",
              "2  0.471154  1.600000  0.625000     1.625        7     5  0.048077     0.625   \n",
              "3  0.204545  3.133333  0.319149     2.750        6    14  0.079545     1.750   \n",
              "4  0.053571  2.966667  0.337079     2.625        3    13  0.077381     1.625   \n",
              "\n",
              "   SentRatio  Score  \n",
              "0          1    3.5  \n",
              "1          1    5.0  \n",
              "2          0    4.0  \n",
              "3          1    5.0  \n",
              "4          1    3.0  \n",
              "\n",
              "[5 rows x 31 columns]"
            ]
          },
          "metadata": {
            "tags": []
          },
          "execution_count": 4
        }
      ]
    },
    {
      "cell_type": "code",
      "metadata": {
        "id": "ud3q_Wgtq1oX",
        "colab": {
          "base_uri": "https://localhost:8080/",
          "height": 561
        },
        "outputId": "92404b2b-a4db-49e0-d69c-0f3a5142d2bf"
      },
      "source": [
        "data1.isnull().any()"
      ],
      "execution_count": null,
      "outputs": [
        {
          "output_type": "execute_result",
          "data": {
            "text/plain": [
              "Sno                 False\n",
              "QuesAnsNo           False\n",
              "Cosine_Sim          False\n",
              "Jaccard_Sim         False\n",
              "Manhattan_Dis       False\n",
              "Euclidean_Dis       False\n",
              "Wordnet_wup_sim      True\n",
              "Wordnet_path_sim     True\n",
              "wordnet_res_sim      True\n",
              "Word_jcn_sim         True\n",
              "Wordnet_lin_sim      True\n",
              "Wordnet_lch_sim      True\n",
              "Bi_gram             False\n",
              "embed_glove         False\n",
              "embed_sim           False\n",
              "embed_b             False\n",
              "lengthRatio         False\n",
              "embed_glove_ques     True\n",
              "lsa                 False\n",
              "Recall              False\n",
              "Precision           False\n",
              "PreRec              False\n",
              "countch             False\n",
              "countch1            False\n",
              "countwd1            False\n",
              "commonw             False\n",
              "Diff                False\n",
              "DiffDiv             False\n",
              "DiffDiv1            False\n",
              "SentRatio           False\n",
              "Score               False\n",
              "dtype: bool"
            ]
          },
          "metadata": {
            "tags": []
          },
          "execution_count": 5
        }
      ]
    },
    {
      "cell_type": "code",
      "metadata": {
        "id": "hOuBJ2Ewwqjx"
      },
      "source": [
        "ndata=data1.fillna(0)\n",
        "#print(ndata.head())"
      ],
      "execution_count": null,
      "outputs": []
    },
    {
      "cell_type": "code",
      "metadata": {
        "id": "F7GQYW9-vURk",
        "colab": {
          "base_uri": "https://localhost:8080/",
          "height": 561
        },
        "outputId": "000fd001-5f23-4145-dd80-12d059170710"
      },
      "source": [
        "ndata.isnull().any()"
      ],
      "execution_count": null,
      "outputs": [
        {
          "output_type": "execute_result",
          "data": {
            "text/plain": [
              "Sno                 False\n",
              "QuesAnsNo           False\n",
              "Cosine_Sim          False\n",
              "Jaccard_Sim         False\n",
              "Manhattan_Dis       False\n",
              "Euclidean_Dis       False\n",
              "Wordnet_wup_sim     False\n",
              "Wordnet_path_sim    False\n",
              "wordnet_res_sim     False\n",
              "Word_jcn_sim        False\n",
              "Wordnet_lin_sim     False\n",
              "Wordnet_lch_sim     False\n",
              "Bi_gram             False\n",
              "embed_glove         False\n",
              "embed_sim           False\n",
              "embed_b             False\n",
              "lengthRatio         False\n",
              "embed_glove_ques    False\n",
              "lsa                 False\n",
              "Recall              False\n",
              "Precision           False\n",
              "PreRec              False\n",
              "countch             False\n",
              "countch1            False\n",
              "countwd1            False\n",
              "commonw             False\n",
              "Diff                False\n",
              "DiffDiv             False\n",
              "DiffDiv1            False\n",
              "SentRatio           False\n",
              "Score               False\n",
              "dtype: bool"
            ]
          },
          "metadata": {
            "tags": []
          },
          "execution_count": 7
        }
      ]
    },
    {
      "cell_type": "code",
      "metadata": {
        "id": "_0hGACKsr7LR",
        "colab": {
          "base_uri": "https://localhost:8080/",
          "height": 71
        },
        "outputId": "ecae833a-e532-400f-cb08-dd112eb48cd2"
      },
      "source": [
        "data_vars=ndata.columns.values.tolist()\n",
        "z=['Score','Sno','QuesAnsNo']\n",
        "y=['Score']\n",
        "x=[i for i in data_vars if i not in z]\n",
        "print(y)\n",
        "print(x)"
      ],
      "execution_count": null,
      "outputs": [
        {
          "output_type": "stream",
          "text": [
            "['Score']\n",
            "['Cosine_Sim', 'Jaccard_Sim', 'Manhattan_Dis', 'Euclidean_Dis', 'Wordnet_wup_sim', 'Wordnet_path_sim', 'wordnet_res_sim', 'Word_jcn_sim', 'Wordnet_lin_sim', 'Wordnet_lch_sim', 'Bi_gram', 'embed_glove', 'embed_sim', 'embed_b', 'lengthRatio', 'embed_glove_ques', 'lsa', 'Recall', 'Precision', 'PreRec', 'countch', 'countch1', 'countwd1', 'commonw', 'Diff', 'DiffDiv', 'DiffDiv1', 'SentRatio']\n"
          ],
          "name": "stdout"
        }
      ]
    },
    {
      "cell_type": "code",
      "metadata": {
        "id": "mgosqQaSFnKH"
      },
      "source": [
        "df = ndata[x]\n",
        "#df11=data[x11]\n",
        "#print(df.head())"
      ],
      "execution_count": null,
      "outputs": []
    },
    {
      "cell_type": "code",
      "metadata": {
        "id": "kEonYAF8tMub"
      },
      "source": [
        "#from sklearn.feature_selection import RFE\n",
        "from sklearn.linear_model import LinearRegression\n",
        "from sklearn.svm import SVR\n",
        "model = LinearRegression()\n",
        "rfe = RFE(model, 10)\n",
        "rfe = rfe.fit(ndata[x], ndata[y])\n",
        "print(rfe.support_)\n",
        "print(rfe.ranking_)"
      ],
      "execution_count": null,
      "outputs": []
    },
    {
      "cell_type": "code",
      "metadata": {
        "id": "yyF6lFXgv0vs"
      },
      "source": [
        "from sklearn.model_selection import KFold # import KFold\n",
        "kf = KFold(n_splits=10, random_state=0, shuffle=True)"
      ],
      "execution_count": null,
      "outputs": []
    },
    {
      "cell_type": "code",
      "metadata": {
        "id": "1CyG-iuO2RNk",
        "colab": {
          "base_uri": "https://localhost:8080/",
          "height": 119
        },
        "outputId": "6745eda6-22aa-4826-d495-728aa93f08fb"
      },
      "source": [
        "q=ndata['Score']\n",
        "print(q.head())\n"
      ],
      "execution_count": null,
      "outputs": [
        {
          "output_type": "stream",
          "text": [
            "0    3.5\n",
            "1    5.0\n",
            "2    4.0\n",
            "3    5.0\n",
            "4    3.0\n",
            "Name: Score, dtype: float64\n"
          ],
          "name": "stdout"
        }
      ]
    },
    {
      "cell_type": "code",
      "metadata": {
        "id": "6KQcb1DNHvAl",
        "colab": {
          "base_uri": "https://localhost:8080/",
          "height": 71
        },
        "outputId": "1ce15f88-be52-4f53-eb76-7ad7566e8e68"
      },
      "source": [
        "data_var=ndata.columns.values.tolist()\n",
        "z1=['Score','Sno','QuesAnsNo','Manhattan_Dis','Euclidean_Dis','lengthRatio']\n",
        "y1=['Score']\n",
        "x1=[i for i in data_vars if i not in z1]\n",
        "print(y1)\n",
        "print(x1)"
      ],
      "execution_count": null,
      "outputs": [
        {
          "output_type": "stream",
          "text": [
            "['Score']\n",
            "['Cosine_Sim', 'Jaccard_Sim', 'Wordnet_wup_sim', 'Wordnet_path_sim', 'wordnet_res_sim', 'Word_jcn_sim', 'Wordnet_lin_sim', 'Wordnet_lch_sim', 'Bi_gram', 'embed_glove', 'embed_sim', 'embed_b', 'embed_glove_ques', 'lsa', 'Recall', 'Precision', 'PreRec', 'countch', 'countch1', 'countwd1', 'commonw', 'Diff', 'DiffDiv', 'DiffDiv1', 'SentRatio']\n"
          ],
          "name": "stdout"
        }
      ]
    },
    {
      "cell_type": "code",
      "metadata": {
        "id": "4ny0ruSYIe6s"
      },
      "source": [
        "df1 = ndata[x1]"
      ],
      "execution_count": null,
      "outputs": []
    },
    {
      "cell_type": "code",
      "metadata": {
        "id": "bnJiI_jJu5C5",
        "colab": {
          "base_uri": "https://localhost:8080/",
          "height": 71
        },
        "outputId": "7cb714fd-a334-49e6-869f-711d23f71f12"
      },
      "source": [
        "from sklearn.preprocessing import MinMaxScaler\n",
        "scaler = MinMaxScaler(feature_range=(0, 1))\n",
        "x1 = scaler.fit_transform(df1)\n",
        "#print(X)"
      ],
      "execution_count": null,
      "outputs": [
        {
          "output_type": "stream",
          "text": [
            "/usr/local/lib/python3.6/dist-packages/sklearn/preprocessing/data.py:334: DataConversionWarning: Data with input dtype int64, float64 were all converted to float64 by MinMaxScaler.\n",
            "  return self.partial_fit(X, y)\n"
          ],
          "name": "stderr"
        }
      ]
    },
    {
      "cell_type": "code",
      "metadata": {
        "id": "BveRXnvs6man",
        "colab": {
          "base_uri": "https://localhost:8080/",
          "height": 34
        },
        "outputId": "f560348b-ca70-42af-d8b0-9ddb4b0e7eba"
      },
      "source": [
        "from sklearn.linear_model import LinearRegression\n",
        "from sklearn.model_selection import train_test_split\n",
        "from scipy.stats.stats import pearsonr\n",
        "import matplotlib.pyplot as plt\n",
        "X_train, X_test, y_train, y_test = train_test_split(x1, q, test_size=0.2)\n",
        "#print X_train.shape, y_train.shape\n",
        "#print X_test.shape, y_test.shape\n",
        "# fit a model\n",
        "lm = LinearRegression()\n",
        "model = lm.fit(X_train, y_train)\n",
        "predictions = lm.predict(X_test)\n",
        "corr, p_value = pearsonr(predictions, y_test)\n",
        "print(corr)"
      ],
      "execution_count": null,
      "outputs": [
        {
          "output_type": "stream",
          "text": [
            "0.5403497514841868\n"
          ],
          "name": "stdout"
        }
      ]
    },
    {
      "cell_type": "code",
      "metadata": {
        "id": "uvwwxzjHQt8D",
        "colab": {
          "base_uri": "https://localhost:8080/",
          "height": 295
        },
        "outputId": "cfde8d4f-b10b-4da6-eab2-2d82c753ebec"
      },
      "source": [
        "plt.scatter(y_test,predictions, color='g')\n",
        "#plt.plot(year, pop_india, color='orange')\n",
        "plt.xlabel('Actual Values')\n",
        "plt.ylabel('Predicted Values')\n",
        "plt.title('Relation between Predicted values and Actual Values')\n",
        "plt.show()"
      ],
      "execution_count": null,
      "outputs": [
        {
          "output_type": "display_data",
          "data": {
            "image/png": "[encoded data removed]",
            "text/plain": [
              "<Figure size 432x288 with 1 Axes>"
            ]
          },
          "metadata": {
            "tags": []
          }
        }
      ]
    },
    {
      "cell_type": "code",
      "metadata": {
        "id": "679HyJrLOs6G",
        "colab": {
          "base_uri": "https://localhost:8080/",
          "height": 51
        },
        "outputId": "36c0221d-6e8a-4d11-9378-25197dcd738f"
      },
      "source": [
        "from sklearn.linear_model import LinearRegression\n",
        "sores = []\n",
        "mtcs=[]\n",
        "#for i in range(1000):\n",
        "for train_index, test_index in kf.split(x1):\n",
        "       #print(\"TRAIN:\", train_index, \"TEST:\", test_index)\n",
        "       X_train, X_test = x1[train_index], x1[test_index]\n",
        "       y_train, y_test = q[train_index], q[test_index]\n",
        "       #print(X_train.shape, y_train.shape)\n",
        "       #print(X_test.shape, y_test.shape)\n",
        "       model = LinearRegression()\n",
        "       model.fit(X_train, y_train)\n",
        "       sores.append(model.score(X_test, y_test))\n",
        "       pre=model.predict(X_test)\n",
        "       corr, p_value = pearsonr(pre, y_test)\n",
        "       #print(corr)\n",
        "       mtcs.append(corr)\n",
        "print(\"score\",round(sum(sores)/len(sores),3))  \n",
        "print(\"Person r Correlation\",round(sum(mtcs)/len(mtcs),3)) "
      ],
      "execution_count": null,
      "outputs": [
        {
          "output_type": "stream",
          "text": [
            "score 0.292\n",
            "Person r Correlation 0.544\n"
          ],
          "name": "stdout"
        }
      ]
    },
    {
      "cell_type": "code",
      "metadata": {
        "id": "9b11mPFdOwzA",
        "colab": {
          "base_uri": "https://localhost:8080/",
          "height": 68
        },
        "outputId": "ab5efbce-7838-4cac-c2c6-ffeae3922f14"
      },
      "source": [
        "from sklearn import metrics\n",
        "print(\"MAE\",metrics.mean_absolute_error(pre,y_test))\n",
        "print(\"MSE\",metrics.mean_squared_error(pre,y_test))\n",
        "print(\"RMSE\",np.sqrt(metrics.mean_squared_error(pre,y_test)))"
      ],
      "execution_count": null,
      "outputs": [
        {
          "output_type": "stream",
          "text": [
            "MAE 0.7003890232788681\n",
            "MSE 0.968387997148342\n",
            "RMSE 0.9840670694359922\n"
          ],
          "name": "stdout"
        }
      ]
    },
    {
      "cell_type": "code",
      "metadata": {
        "id": "RuiYVmmaUFFy",
        "colab": {
          "base_uri": "https://localhost:8080/",
          "height": 295
        },
        "outputId": "511f6828-c3ec-47ac-d96d-f35eb19d36a2"
      },
      "source": [
        "plt.scatter(y_test,pre)\n",
        "#plt.plot(year, pop_india, color='orange')\n",
        "plt.xlabel('Actual Values')\n",
        "plt.ylabel('Predicted Values')\n",
        "plt.title('Relation between Predicted values and Actual Values')\n",
        "plt.show()"
      ],
      "execution_count": null,
      "outputs": [
        {
          "output_type": "display_data",
          "data": {
            "image/png": "[encoded data removed]",
            "text/plain": [
              "<Figure size 432x288 with 1 Axes>"
            ]
          },
          "metadata": {
            "tags": []
          }
        }
      ]
    },
    {
      "cell_type": "code",
      "metadata": {
        "id": "iepr2ikpvTR_",
        "colab": {
          "base_uri": "https://localhost:8080/",
          "height": 51
        },
        "outputId": "65332b1d-0f0e-480d-8309-bae1cba54cc2"
      },
      "source": [
        "from sklearn.linear_model import Ridge\n",
        "sores = []\n",
        "mtcs=[]\n",
        "#for i in range(1000):\n",
        "for train_index, test_index in kf.split(x1):\n",
        "       #print(\"TRAIN:\", train_index, \"TEST:\", test_index)\n",
        "       X_train, X_test = x1[train_index], x1[test_index]\n",
        "       y_train, y_test = q[train_index], q[test_index]\n",
        "       #print(X_train.shape, y_train.shape)\n",
        "       #print(X_test.shape, y_test.shape)\n",
        "       model = Ridge()\n",
        "       model.fit(X_train, y_train)\n",
        "       sores.append(model.score(X_test, y_test))\n",
        "       pre=model.predict(X_test)\n",
        "       corr, p_value = pearsonr(pre, y_test)\n",
        "       #print(corr)\n",
        "       mtcs.append(corr)\n",
        "print(\"score\",round(sum(sores)/len(sores),3))  \n",
        "print(\"Person r Correlation\",round(sum(mtcs)/len(mtcs),3)) "
      ],
      "execution_count": null,
      "outputs": [
        {
          "output_type": "stream",
          "text": [
            "score 0.291\n",
            "Person r Correlation 0.542\n"
          ],
          "name": "stdout"
        }
      ]
    },
    {
      "cell_type": "code",
      "metadata": {
        "id": "HUlxTE_iFY9B",
        "colab": {
          "base_uri": "https://localhost:8080/",
          "height": 68
        },
        "outputId": "cf1f0489-a791-4da1-dcf4-2d048bb2e46e"
      },
      "source": [
        "from sklearn import metrics\n",
        "print(\"MAE\",metrics.mean_absolute_error(pre,y_test))\n",
        "print(\"MSE\",metrics.mean_squared_error(pre,y_test))\n",
        "print(\"RMSE\",np.sqrt(metrics.mean_squared_error(pre,y_test)))"
      ],
      "execution_count": null,
      "outputs": [
        {
          "output_type": "stream",
          "text": [
            "MAE 0.7008612381641219\n",
            "MSE 0.9587791606798987\n",
            "RMSE 0.9791726919598497\n"
          ],
          "name": "stdout"
        }
      ]
    },
    {
      "cell_type": "code",
      "metadata": {
        "id": "_9Flo4XxUz2n",
        "colab": {
          "base_uri": "https://localhost:8080/",
          "height": 295
        },
        "outputId": "ddb5e642-17e4-4dc3-a440-2d51c27b0fb0"
      },
      "source": [
        "plt.scatter(y_test,pre)\n",
        "#plt.plot(year, pop_india, color='orange')\n",
        "plt.xlabel('Actual Values')\n",
        "plt.ylabel('Predicted Values')\n",
        "plt.title('Relation between Predicted values and Actual Values')\n",
        "plt.show()"
      ],
      "execution_count": null,
      "outputs": [
        {
          "output_type": "display_data",
          "data": {
            "image/png": "[encoded data removed]",
            "text/plain": [
              "<Figure size 432x288 with 1 Axes>"
            ]
          },
          "metadata": {
            "tags": []
          }
        }
      ]
    },
    {
      "cell_type": "code",
      "metadata": {
        "id": "PlrO_96DFJP0",
        "colab": {
          "base_uri": "https://localhost:8080/",
          "height": 51
        },
        "outputId": "796874c5-77c8-435e-8d51-75287b2aa96a"
      },
      "source": [
        "from sklearn.svm import SVR\n",
        "sores = []\n",
        "mtcs=[]\n",
        "#for i in range(1000):\n",
        "for train_index, test_index in kf.split(x1):\n",
        "       #print(\"TRAIN:\", train_index, \"TEST:\", test_index)\n",
        "       X_train, X_test = x1[train_index], x1[test_index]\n",
        "       y_train, y_test = q[train_index], q[test_index]\n",
        "       #print(X_train.shape, y_train.shape)\n",
        "       #print(X_test.shape, y_test.shape)\n",
        "       model = SVR(gamma='scale', C=1.0, epsilon=0.2)\n",
        "       model.fit(X_train, y_train)\n",
        "       sores.append(model.score(X_test, y_test))\n",
        "       pre=model.predict(X_test)\n",
        "       corr, p_value = pearsonr(pre, y_test)\n",
        "       #print(corr)\n",
        "       mtcs.append(corr)\n",
        "print(\"score\",round(sum(sores)/len(sores),3))  \n",
        "print(\"Person r Correlation\",round(sum(mtcs)/len(mtcs),3)) "
      ],
      "execution_count": null,
      "outputs": [
        {
          "output_type": "stream",
          "text": [
            "score 0.31\n",
            "Person r Correlation 0.573\n"
          ],
          "name": "stdout"
        }
      ]
    },
    {
      "cell_type": "code",
      "metadata": {
        "id": "qFpp96chGVxR",
        "colab": {
          "base_uri": "https://localhost:8080/",
          "height": 68
        },
        "outputId": "dc47b2d2-a23c-4dbf-c537-60b463af6623"
      },
      "source": [
        "from sklearn import metrics\n",
        "print(\"MAE\",metrics.mean_absolute_error(pre,y_test))\n",
        "print(\"MSE\",metrics.mean_squared_error(pre,y_test))\n",
        "print(\"RMSE\",np.sqrt(metrics.mean_squared_error(pre,y_test)))"
      ],
      "execution_count": null,
      "outputs": [
        {
          "output_type": "stream",
          "text": [
            "MAE 0.6401376093533646\n",
            "MSE 0.9214522592057363\n",
            "RMSE 0.9599230485855292\n"
          ],
          "name": "stdout"
        }
      ]
    },
    {
      "cell_type": "code",
      "metadata": {
        "id": "IwsmtgssVDkw",
        "colab": {
          "base_uri": "https://localhost:8080/",
          "height": 295
        },
        "outputId": "c2a4e473-52a4-4f2f-9c95-f89f80f93b46"
      },
      "source": [
        "plt.scatter(y_test,pre)\n",
        "#plt.plot(year, pop_india, color='orange')\n",
        "plt.xlabel('Actual Values')\n",
        "plt.ylabel('Predicted Values')\n",
        "plt.title('Relation between Predicted values and Actual Values')\n",
        "plt.show()"
      ],
      "execution_count": null,
      "outputs": [
        {
          "output_type": "display_data",
          "data": {
            "image/png": "[encoded data removed]",
            "text/plain": [
              "<Figure size 432x288 with 1 Axes>"
            ]
          },
          "metadata": {
            "tags": []
          }
        }
      ]
    },
    {
      "cell_type": "code",
      "metadata": {
        "id": "iRffcTRdIuAz",
        "colab": {
          "base_uri": "https://localhost:8080/",
          "height": 51
        },
        "outputId": "3f94ffc5-c543-45cc-cc64-628f1b91bb73"
      },
      "source": [
        "from sklearn import ensemble\n",
        "\n",
        "sores = []\n",
        "mtcs=[]\n",
        "#for i in range(1000):\n",
        "for train_index, test_index in kf.split(x1):\n",
        "       #print(\"TRAIN:\", train_index, \"TEST:\", test_index)\n",
        "       X_train, X_test = x1[train_index], x1[test_index]\n",
        "       y_train, y_test = q[train_index], q[test_index]\n",
        "       #print(X_train.shape, y_train.shape)\n",
        "       #print(X_test.shape, y_test.shape)\n",
        "       params = {'n_estimators': 100, 'max_depth': 10, 'min_samples_split': 2,'learning_rate': 0.01, 'loss': 'ls'}\n",
        "       model = ensemble.GradientBoostingRegressor(**params)\n",
        "       #model = LogisticRegression(random_state=0, multi_class='multinomial', solver='newton-cg')\n",
        "       model.fit(X_train, y_train)\n",
        "       sores.append(model.score(X_test, y_test))\n",
        "       pre=model.predict(X_test)\n",
        "       corr, p_value = pearsonr(pre, y_test)\n",
        "       #print(corr)\n",
        "       mtcs.append(corr)\n",
        "print(\"score\",round(sum(sores)/len(sores),3))  \n",
        "print(\"Person r Correlation\",round(sum(mtcs)/len(mtcs),3)) "
      ],
      "execution_count": null,
      "outputs": [
        {
          "output_type": "stream",
          "text": [
            "score 0.371\n",
            "Person r Correlation 0.633\n"
          ],
          "name": "stdout"
        }
      ]
    },
    {
      "cell_type": "code",
      "metadata": {
        "id": "i3nsPRdRVpwN",
        "colab": {
          "base_uri": "https://localhost:8080/",
          "height": 295
        },
        "outputId": "9bfec068-ba4b-4a61-c703-aea8eded6af8"
      },
      "source": [
        "plt.scatter(y_test,pre)\n",
        "#plt.plot(year, pop_india, color='orange')\n",
        "plt.xlabel('Actual Values')\n",
        "plt.ylabel('Predicted Values')\n",
        "plt.title('Relation between Predicted values and Actual Values')\n",
        "plt.show()"
      ],
      "execution_count": null,
      "outputs": [
        {
          "output_type": "display_data",
          "data": {
            "image/png": "[encoded data removed]",
            "text/plain": [
              "<Figure size 432x288 with 1 Axes>"
            ]
          },
          "metadata": {
            "tags": []
          }
        }
      ]
    },
    {
      "cell_type": "code",
      "metadata": {
        "id": "ObU1cyD4NapU",
        "colab": {
          "base_uri": "https://localhost:8080/",
          "height": 68
        },
        "outputId": "7ec179a4-a93d-4f20-e094-9206e612ae82"
      },
      "source": [
        "from sklearn import metrics\n",
        "print(\"MAE\",metrics.mean_absolute_error(pre,y_test))\n",
        "print(\"MSE\",metrics.mean_squared_error(pre,y_test))\n",
        "print(\"RMSE\",np.sqrt(metrics.mean_squared_error(pre,y_test)))"
      ],
      "execution_count": null,
      "outputs": [
        {
          "output_type": "stream",
          "text": [
            "MAE 0.6813381985988357\n",
            "MSE 0.8727014599889208\n",
            "RMSE 0.9341849174488532\n"
          ],
          "name": "stdout"
        }
      ]
    },
    {
      "cell_type": "code",
      "metadata": {
        "id": "_YGcx99OgTiE",
        "colab": {
          "base_uri": "https://localhost:8080/",
          "height": 51
        },
        "outputId": "8c600501-e143-451a-9ada-af3ebe83f03f"
      },
      "source": [
        "from sklearn import ensemble\n",
        "\n",
        "sores = []\n",
        "mtcs=[]\n",
        "#for i in range(1000):\n",
        "for train_index, test_index in kf.split(x1):\n",
        "       #print(\"TRAIN:\", train_index, \"TEST:\", test_index)\n",
        "       X_train, X_test = x1[train_index], x1[test_index]\n",
        "       y_train, y_test = q[train_index], q[test_index]\n",
        "       #print(X_train.shape, y_train.shape)\n",
        "       #print(X_test.shape, y_test.shape)\n",
        "       #params = {'n_estimators': 100, 'max_depth': 10, 'min_samples_split': 2,'learning_rate': 0.01, 'loss': 'ls'}\n",
        "       model = ensemble.RandomForestRegressor(n_estimators=500, random_state=0)\n",
        "       #model = LogisticRegression(random_state=0, multi_class='multinomial', solver='newton-cg')\n",
        "       model.fit(X_train, y_train)\n",
        "       sores.append(model.score(X_test, y_test))\n",
        "       pre=model.predict(X_test)\n",
        "       corr, p_value = pearsonr(pre, y_test)\n",
        "       #print(corr)\n",
        "       mtcs.append(corr)\n",
        "print(\"score\",round(sum(sores)/len(sores),3))  \n",
        "print(\"Person r Correlation\",round(sum(mtcs)/len(mtcs),3))"
      ],
      "execution_count": null,
      "outputs": [
        {
          "output_type": "stream",
          "text": [
            "score 0.472\n",
            "Person r Correlation 0.69\n"
          ],
          "name": "stdout"
        }
      ]
    },
    {
      "cell_type": "code",
      "metadata": {
        "id": "f5-5SWdMNcca",
        "colab": {
          "base_uri": "https://localhost:8080/",
          "height": 68
        },
        "outputId": "5854ed83-5e9a-4781-bc6f-bf1d7725d604"
      },
      "source": [
        "from sklearn import metrics\n",
        "print(\"MAE\",metrics.mean_absolute_error(pre,y_test))\n",
        "print(\"MSE\",metrics.mean_squared_error(pre,y_test))\n",
        "print(\"RMSE\",np.sqrt(metrics.mean_squared_error(pre,y_test)))"
      ],
      "execution_count": null,
      "outputs": [
        {
          "output_type": "stream",
          "text": [
            "MAE 0.5481141198282591\n",
            "MSE 0.6916693016430383\n",
            "RMSE 0.8316665808141135\n"
          ],
          "name": "stdout"
        }
      ]
    },
    {
      "cell_type": "code",
      "metadata": {
        "id": "Vv_mvAqNWUtu",
        "colab": {
          "base_uri": "https://localhost:8080/",
          "height": 295
        },
        "outputId": "2fab7bd5-6ec2-4851-8529-aedec5ff6cc3"
      },
      "source": [
        "plt.scatter(y_test,pre)\n",
        "#plt.plot(year, pop_india, color='orange')\n",
        "plt.xlabel('Actual Values')\n",
        "plt.ylabel('Predicted Values')\n",
        "plt.title('Relation between Predicted values and Actual Values')\n",
        "plt.show()"
      ],
      "execution_count": null,
      "outputs": [
        {
          "output_type": "display_data",
          "data": {
            "image/png": "[encoded data removed]",
            "text/plain": [
              "<Figure size 432x288 with 1 Axes>"
            ]
          },
          "metadata": {
            "tags": []
          }
        }
      ]
    },
    {
      "cell_type": "code",
      "metadata": {
        "id": "eHa7q9lWlXIx",
        "colab": {
          "base_uri": "https://localhost:8080/",
          "height": 51
        },
        "outputId": "56e6c964-e4bd-46b0-d36f-1e7639bbe22f"
      },
      "source": [
        "from sklearn import ensemble\n",
        "\n",
        "sores = []\n",
        "mtcs=[]\n",
        "#for i in range(1000):\n",
        "for train_index, test_index in kf.split(x1):\n",
        "       #print(\"TRAIN:\", train_index, \"TEST:\", test_index)\n",
        "       X_train, X_test = x1[train_index], x1[test_index]\n",
        "       y_train, y_test = q[train_index], q[test_index]\n",
        "       #print(X_train.shape, y_train.shape)\n",
        "       #print(X_test.shape, y_test.shape)\n",
        "       #params = {'n_estimators': 100, 'max_depth': 10, 'min_samples_split': 2,'learning_rate': 0.01, 'loss': 'ls'}\n",
        "       model = ensemble.RandomForestRegressor(n_estimators=100, random_state=0)\n",
        "       #model = LogisticRegression(random_state=0, multi_class='multinomial', solver='newton-cg')\n",
        "       model.fit(X_train, y_train)\n",
        "       sores.append(model.score(X_test, y_test))\n",
        "       pre=model.predict(X_test)\n",
        "       corr, p_value = pearsonr(pre, y_test)\n",
        "       #print(corr)\n",
        "       mtcs.append(corr)\n",
        "print(\"score\",round(sum(sores)/len(sores),3))  \n",
        "print(\"Person r Correlation\",round(sum(mtcs)/len(mtcs),3))"
      ],
      "execution_count": null,
      "outputs": [
        {
          "output_type": "stream",
          "text": [
            "score 0.463\n",
            "Person r Correlation 0.683\n"
          ],
          "name": "stdout"
        }
      ]
    },
    {
      "cell_type": "code",
      "metadata": {
        "id": "tZVLQB9R-Utd",
        "colab": {
          "base_uri": "https://localhost:8080/",
          "height": 34
        },
        "outputId": "114c49ae-2577-427e-f614-cb3b99fadd66"
      },
      "source": [
        "import pickle \n",
        "  \n",
        "# Save the trained model as a pickle string. \n",
        "pickle.dump(model, open(\"rdf_pickle.p\", 'wb'))\n",
        "print(\"Classifier parameters saved to file!\")"
      ],
      "execution_count": null,
      "outputs": [
        {
          "output_type": "stream",
          "text": [
            "Classifier parameters saved to file!\n"
          ],
          "name": "stdout"
        }
      ]
    },
    {
      "cell_type": "code",
      "metadata": {
        "id": "RfpTvBpnNfbE",
        "colab": {
          "base_uri": "https://localhost:8080/",
          "height": 68
        },
        "outputId": "fa53a004-e07f-4c42-f1cb-51c59bea13f6"
      },
      "source": [
        "from sklearn import metrics\n",
        "print(\"MAE\",metrics.mean_absolute_error(pre,y_test))\n",
        "print(\"MSE\",metrics.mean_squared_error(pre,y_test))\n",
        "print(\"RMSE\",np.sqrt(metrics.mean_squared_error(pre,y_test)))"
      ],
      "execution_count": null,
      "outputs": [
        {
          "output_type": "stream",
          "text": [
            "MAE 0.5527967896174862\n",
            "MSE 0.7091669657046903\n",
            "RMSE 0.8421205173279477\n"
          ],
          "name": "stdout"
        }
      ]
    },
    {
      "cell_type": "code",
      "metadata": {
        "id": "1M9yIFGBW0kC"
      },
      "source": [
        ""
      ],
      "execution_count": null,
      "outputs": []
    },
    {
      "cell_type": "code",
      "metadata": {
        "id": "5XlbYiAJW0pG",
        "colab": {
          "base_uri": "https://localhost:8080/",
          "height": 295
        },
        "outputId": "aab3073d-7dea-4bb1-e565-352d8ded555b"
      },
      "source": [
        "plt.scatter(y_test,pre)\n",
        "#plt.plot(year, pop_india, color='orange')\n",
        "plt.xlabel('Actual Values')\n",
        "plt.ylabel('Predicted Values')\n",
        "plt.title('Relation between Predicted values and Actual Values')\n",
        "plt.show()"
      ],
      "execution_count": null,
      "outputs": [
        {
          "output_type": "display_data",
          "data": {
            "image/png": "[encoded data removed]",
            "text/plain": [
              "<Figure size 432x288 with 1 Axes>"
            ]
          },
          "metadata": {
            "tags": []
          }
        }
      ]
    },
    {
      "cell_type": "markdown",
      "metadata": {
        "id": "rjbp379bptPC"
      },
      "source": [
        "# **Stacked Regression**"
      ]
    },
    {
      "cell_type": "code",
      "metadata": {
        "id": "Yu1XiDA4oAwT"
      },
      "source": [
        "from mlxtend.regressor import StackingRegressor\n",
        "from sklearn.linear_model import LinearRegression\n",
        "from sklearn.linear_model import Ridge\n",
        "from sklearn.ensemble import GradientBoostingRegressor\n",
        "from sklearn.ensemble import RandomForestRegressor\n",
        "from sklearn.svm import SVR\n",
        "import matplotlib.pyplot as plt\n",
        "import numpy as np\n",
        "from sklearn.model_selection import train_test_split\n",
        "from scipy.stats.stats import pearsonr"
      ],
      "execution_count": null,
      "outputs": []
    },
    {
      "cell_type": "code",
      "metadata": {
        "id": "7L-DeUcjoNCJ",
        "colab": {
          "base_uri": "https://localhost:8080/",
          "height": 1734
        },
        "outputId": "bc288c9d-c85c-4a40-90b9-38c78f90ab6b"
      },
      "source": [
        "lr = LinearRegression()\n",
        "svr_lin = SVR(kernel='linear')\n",
        "ridge = Ridge(random_state=1)\n",
        "svr_rbf = SVR(kernel='rbf')\n",
        "rfr=RandomForestRegressor(n_estimators=100, random_state=0)\n",
        "params = {'n_estimators': 100, 'max_depth': 10, 'min_samples_split': 2,'learning_rate': 0.01, 'loss': 'ls'}\n",
        "gbr=GradientBoostingRegressor(**params)\n",
        "\n",
        "# Training the stacking classifier\n",
        "l=[]\n",
        "#stregr.fit(x1,q)\n",
        "#stregr.predict(X1)\n",
        "for i in range(100):\n",
        "   X_train, X_test, y_train, y_test = train_test_split(x1, q, test_size=0.2)\n",
        "#print X_train.shape, y_train.shape\n",
        "#print X_test.shape, y_test.shape\n",
        "# fit a model\n",
        "   stregr = StackingRegressor(regressors=[rfr], \n",
        "                           meta_regressor=ridge)\n",
        "   model = stregr.fit(X_train, y_train)\n",
        "   predictions = stregr.predict(X_test)\n",
        "   corr, p_value = pearsonr(predictions, y_test)\n",
        "   #print(corr)\n",
        "   l.append(corr)\n",
        "\n",
        "print(\"Person r Correlation\",round(sum(l)/len(l),3))"
      ],
      "execution_count": null,
      "outputs": [
        {
          "output_type": "stream",
          "text": [
            "0.7117738621698584\n",
            "0.6755565493506194\n",
            "0.6664542333354654\n",
            "0.664287925218083\n",
            "0.6973368244162348\n",
            "0.6948457681779764\n",
            "0.6574893843440004\n",
            "0.6156250625656662\n",
            "0.6701198419140386\n",
            "0.6924284708312284\n",
            "0.6640555577877922\n",
            "0.6487845670690371\n",
            "0.710228464732295\n",
            "0.6116047468021797\n",
            "0.6725109070869579\n",
            "0.6439063386029954\n",
            "0.6717003099493951\n",
            "0.6659820874067784\n",
            "0.7130493441679007\n",
            "0.6534005510178411\n",
            "0.6586361216699905\n",
            "0.6727552566963289\n",
            "0.6687843730420031\n",
            "0.6199430896650714\n",
            "0.6851896740158137\n",
            "0.651533450391617\n",
            "0.6659142257055324\n",
            "0.6392215409539849\n",
            "0.6705874837500673\n",
            "0.6987789918888931\n",
            "0.7068182194080994\n",
            "0.6068977019887761\n",
            "0.7368681645131443\n",
            "0.707244603875893\n",
            "0.6106806655037428\n",
            "0.6572559955596557\n",
            "0.7064893959995735\n",
            "0.696730756182473\n",
            "0.6994091845679034\n",
            "0.6782311973797328\n",
            "0.6909201516915326\n",
            "0.6350025509518872\n",
            "0.6287021961225504\n",
            "0.7151287650152024\n",
            "0.7340005712611075\n",
            "0.7106696058964685\n",
            "0.6736776431487168\n",
            "0.7118771270011351\n",
            "0.6851507277679735\n",
            "0.6596543087846951\n",
            "0.6447322342434729\n",
            "0.6349637013073391\n",
            "0.613426944097621\n",
            "0.6302161271216927\n",
            "0.6935351115291142\n",
            "0.697713422312952\n",
            "0.643341309188924\n",
            "0.608175001376327\n",
            "0.6845396406162716\n",
            "0.6761800414847075\n",
            "0.6901285852941128\n",
            "0.6802908037932579\n",
            "0.6739382413012545\n",
            "0.6629770236983793\n",
            "0.6853057503178979\n",
            "0.7066070209030515\n",
            "0.6411402856152013\n",
            "0.6334992581752383\n",
            "0.7153450196240477\n",
            "0.6905199113824148\n",
            "0.639583657915743\n",
            "0.7064842385673089\n",
            "0.6298836316343842\n",
            "0.6793723426684893\n",
            "0.6837559004071222\n",
            "0.7154333573443881\n",
            "0.7447393099068755\n",
            "0.7098913778764535\n",
            "0.654947319054518\n",
            "0.7678438701876702\n",
            "0.7063795217612879\n",
            "0.6423414330138895\n",
            "0.6988947707994767\n",
            "0.6783310404155629\n",
            "0.7306798652403094\n",
            "0.6954105142092079\n",
            "0.6560485980434941\n",
            "0.6477151833771838\n",
            "0.6638964368759923\n",
            "0.6684087089156941\n",
            "0.6674095961000298\n",
            "0.7209078462504498\n",
            "0.7288448073097789\n",
            "0.6904408336542815\n",
            "0.7334490093303576\n",
            "0.657654882197781\n",
            "0.6809605664321879\n",
            "0.625103105606705\n",
            "0.6840526226664352\n",
            "0.6949723723741196\n",
            "Person r Correlation 0.676\n"
          ],
          "name": "stdout"
        }
      ]
    },
    {
      "cell_type": "code",
      "metadata": {
        "id": "_Wrc0rZJNhUW",
        "colab": {
          "base_uri": "https://localhost:8080/",
          "height": 68
        },
        "outputId": "7c638241-d732-4a63-939e-e965af986886"
      },
      "source": [
        "from sklearn import metrics\n",
        "print(\"MAE\",metrics.mean_absolute_error(predictions,y_test))\n",
        "print(\"MSE\",metrics.mean_squared_error(predictions,y_test))\n",
        "print(\"RMSE\",np.sqrt(metrics.mean_squared_error(predictions,y_test)))"
      ],
      "execution_count": null,
      "outputs": [
        {
          "output_type": "stream",
          "text": [
            "MAE 0.5649139095043086\n",
            "MSE 0.6275396021691207\n",
            "RMSE 0.7921739721608636\n"
          ],
          "name": "stdout"
        }
      ]
    },
    {
      "cell_type": "code",
      "metadata": {
        "id": "K2Xr9fcTp-rf",
        "colab": {
          "base_uri": "https://localhost:8080/",
          "height": 85
        },
        "outputId": "371a0239-a9c1-4929-9c11-b6fb655812a7"
      },
      "source": [
        "sores = []\n",
        "mtcs=[]\n",
        "#for i in range(1000):\n",
        "for train_index, test_index in kf.split(x1):\n",
        "       #print(\"TRAIN:\", train_index, \"TEST:\", test_index)\n",
        "       X_train, X_test = x1[train_index], x1[test_index]\n",
        "       y_train, y_test = q[train_index], q[test_index]\n",
        "       #print(X_train.shape, y_train.shape)\n",
        "       #print(X_test.shape, y_test.shape)\n",
        "       #params = {'n_estimators': 500, 'max_depth': 10, 'min_samples_split': 2,'learning_rate': 0.01, 'loss': 'ls'}\n",
        "       stregr = StackingRegressor(regressors=[rfr], \n",
        "                           meta_regressor=ridge)\n",
        "       model = stregr.fit(X_train, y_train)\n",
        "       sores.append(model.score(X_test, y_test))\n",
        "       pre=model.predict(X_test)\n",
        "       corr, p_value = pearsonr(pre, y_test)\n",
        "       #print(corr)\n",
        "       mtcs.append(corr)\n",
        "print(\"score\",round(sum(sores)/len(sores),3))  \n",
        "print(\"Person r Correlation\",round(sum(mtcs)/len(mtcs),3))\n",
        "\n",
        "\n",
        "print(\"Mean Squared Error: %.4f\"\n",
        "      % np.mean((stregr.predict(X_test) - y_test) ** 2))\n",
        "print('Variance Score: %.4f' % stregr.score(X_test, y_test))\n"
      ],
      "execution_count": null,
      "outputs": [
        {
          "output_type": "stream",
          "text": [
            "score 0.451\n",
            "Person r Correlation 0.683\n",
            "Mean Squared Error: 0.7135\n",
            "Variance Score: 0.5021\n"
          ],
          "name": "stdout"
        }
      ]
    },
    {
      "cell_type": "code",
      "metadata": {
        "id": "hPw3-kgfNjZv",
        "colab": {
          "base_uri": "https://localhost:8080/",
          "height": 68
        },
        "outputId": "d848f4cf-4cc0-48e0-b5ef-ba085357ae78"
      },
      "source": [
        "from sklearn import metrics\n",
        "print(\"MAE\",metrics.mean_absolute_error(pre,y_test))\n",
        "print(\"MSE\",metrics.mean_squared_error(pre,y_test))\n",
        "print(\"RMSE\",np.sqrt(metrics.mean_squared_error(pre,y_test)))"
      ],
      "execution_count": null,
      "outputs": [
        {
          "output_type": "stream",
          "text": [
            "MAE 0.562896585647559\n",
            "MSE 0.7134612113227732\n",
            "RMSE 0.8446663313538507\n"
          ],
          "name": "stdout"
        }
      ]
    }
  ]
}